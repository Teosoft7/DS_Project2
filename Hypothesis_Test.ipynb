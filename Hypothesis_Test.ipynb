{
 "cells": [
  {
   "cell_type": "markdown",
   "metadata": {},
   "source": [
    "## Question 1:\n",
    "Is there a statistical difference in the odds of winning a game when a team is playing in front of their home crowd?\n",
    "\n",
    "## Hypothesis:\n",
    "**Null Hypothesis** H<sub>0</sub> = There is *no statistical difference* in the odds of winning a game when a team is playing in front of their home crowd \n",
    "\n",
    "**Alternative Hypothesis** H<sub>a</sub> = There is *always* a difference in the odds of winning a game when a team is playing in front of their home crowd."
   ]
  },
  {
   "cell_type": "code",
   "execution_count": 167,
   "metadata": {},
   "outputs": [],
   "source": [
    "import pandas as pd\n",
    "import numpy as np\n",
    "import psycopg2\n",
    "from scipy import stats\n",
    "import seaborn as sns\n",
    "import matplotlib.pyplot as plt"
   ]
  },
  {
   "cell_type": "code",
   "execution_count": 2,
   "metadata": {},
   "outputs": [],
   "source": [
    "conn = psycopg2.connect('dbname=football_db')"
   ]
  },
  {
   "cell_type": "code",
   "execution_count": 3,
   "metadata": {},
   "outputs": [],
   "source": [
    "cur = conn.cursor()"
   ]
  },
  {
   "cell_type": "code",
   "execution_count": 4,
   "metadata": {},
   "outputs": [],
   "source": [
    "columns = ['id', 'home_goal', 'away_goal', 'result']\n",
    "\n",
    "query = f\"\"\"\n",
    "SELECT match_api_id, home_team_goal, away_team_goal, \n",
    "CASE WHEN home_team_goal > away_team_goal THEN 'Win' \n",
    "         ELSE 'NoWin' END as Result\n",
    "FROM Match\n",
    "\"\"\"\n",
    "\n",
    "cur.execute(query)\n",
    "data = cur.fetchall()"
   ]
  },
  {
   "cell_type": "code",
   "execution_count": 5,
   "metadata": {},
   "outputs": [],
   "source": [
    "df = pd.DataFrame(data, columns=columns)"
   ]
  },
  {
   "cell_type": "code",
   "execution_count": 6,
   "metadata": {},
   "outputs": [
    {
     "data": {
      "text/html": [
       "<div>\n",
       "<style scoped>\n",
       "    .dataframe tbody tr th:only-of-type {\n",
       "        vertical-align: middle;\n",
       "    }\n",
       "\n",
       "    .dataframe tbody tr th {\n",
       "        vertical-align: top;\n",
       "    }\n",
       "\n",
       "    .dataframe thead th {\n",
       "        text-align: right;\n",
       "    }\n",
       "</style>\n",
       "<table border=\"1\" class=\"dataframe\">\n",
       "  <thead>\n",
       "    <tr style=\"text-align: right;\">\n",
       "      <th></th>\n",
       "      <th>id</th>\n",
       "      <th>home_goal</th>\n",
       "      <th>away_goal</th>\n",
       "      <th>result</th>\n",
       "    </tr>\n",
       "  </thead>\n",
       "  <tbody>\n",
       "    <tr>\n",
       "      <th>0</th>\n",
       "      <td>492473</td>\n",
       "      <td>1</td>\n",
       "      <td>1</td>\n",
       "      <td>NoWin</td>\n",
       "    </tr>\n",
       "    <tr>\n",
       "      <th>1</th>\n",
       "      <td>492474</td>\n",
       "      <td>0</td>\n",
       "      <td>0</td>\n",
       "      <td>NoWin</td>\n",
       "    </tr>\n",
       "    <tr>\n",
       "      <th>2</th>\n",
       "      <td>492475</td>\n",
       "      <td>0</td>\n",
       "      <td>3</td>\n",
       "      <td>NoWin</td>\n",
       "    </tr>\n",
       "    <tr>\n",
       "      <th>3</th>\n",
       "      <td>492476</td>\n",
       "      <td>5</td>\n",
       "      <td>0</td>\n",
       "      <td>Win</td>\n",
       "    </tr>\n",
       "    <tr>\n",
       "      <th>4</th>\n",
       "      <td>492477</td>\n",
       "      <td>1</td>\n",
       "      <td>3</td>\n",
       "      <td>NoWin</td>\n",
       "    </tr>\n",
       "  </tbody>\n",
       "</table>\n",
       "</div>"
      ],
      "text/plain": [
       "       id  home_goal  away_goal result\n",
       "0  492473          1          1  NoWin\n",
       "1  492474          0          0  NoWin\n",
       "2  492475          0          3  NoWin\n",
       "3  492476          5          0    Win\n",
       "4  492477          1          3  NoWin"
      ]
     },
     "execution_count": 6,
     "metadata": {},
     "output_type": "execute_result"
    }
   ],
   "source": [
    "df.head()"
   ]
  },
  {
   "cell_type": "code",
   "execution_count": 7,
   "metadata": {},
   "outputs": [
    {
     "data": {
      "text/plain": [
       "11917"
      ]
     },
     "execution_count": 7,
     "metadata": {},
     "output_type": "execute_result"
    }
   ],
   "source": [
    "total_wins = len(df[df['result'] == 'Win'])\n",
    "total_wins"
   ]
  },
  {
   "cell_type": "code",
   "execution_count": 8,
   "metadata": {},
   "outputs": [
    {
     "data": {
      "text/plain": [
       "25979"
      ]
     },
     "execution_count": 8,
     "metadata": {},
     "output_type": "execute_result"
    }
   ],
   "source": [
    "total_games = len(df['result'])\n",
    "total_games"
   ]
  },
  {
   "cell_type": "code",
   "execution_count": 9,
   "metadata": {},
   "outputs": [
    {
     "data": {
      "text/plain": [
       "0.45871665576042187"
      ]
     },
     "execution_count": 9,
     "metadata": {},
     "output_type": "execute_result"
    }
   ],
   "source": [
    "# Population mean (μ): Win rate for all home game wins for entire dataset\n",
    "mu = total_wins / total_games\n",
    "mu"
   ]
  },
  {
   "cell_type": "code",
   "execution_count": 10,
   "metadata": {},
   "outputs": [],
   "source": [
    "sample_size = 2000\n",
    "number_of_games = 2000\n",
    "samples = np.zeros(sample_size)\n",
    "for i in range(sample_size):\n",
    "    \"\"\"Taking a sample size of the win rate for home games\"\"\"\n",
    "    games = df.iloc[np.random.randint(low=0, high=len(df), size=number_of_games), :]\n",
    "    win_rate = len(games[games['result'] == 'Win']) / number_of_games\n",
    "    samples[i] = win_rate\n"
   ]
  },
  {
   "cell_type": "code",
   "execution_count": 11,
   "metadata": {},
   "outputs": [
    {
     "data": {
      "text/plain": [
       "0.45832500000000004"
      ]
     },
     "execution_count": 11,
     "metadata": {},
     "output_type": "execute_result"
    }
   ],
   "source": [
    "sample_mean = samples.mean()\n",
    "sample_mean"
   ]
  },
  {
   "cell_type": "code",
   "execution_count": 12,
   "metadata": {},
   "outputs": [
    {
     "data": {
      "text/plain": [
       "0.010988926392128838"
      ]
     },
     "execution_count": 12,
     "metadata": {},
     "output_type": "execute_result"
    }
   ],
   "source": [
    "std = np.std(samples, ddof=1)\n",
    "std"
   ]
  },
  {
   "cell_type": "code",
   "execution_count": 13,
   "metadata": {},
   "outputs": [
    {
     "data": {
      "text/plain": [
       "-1.593911675866488"
      ]
     },
     "execution_count": 13,
     "metadata": {},
     "output_type": "execute_result"
    }
   ],
   "source": [
    "# T-Test to compare the average mean to the population mean\n",
    "t = (sample_mean - mu) / (std / np.sqrt(sample_size))\n",
    "t"
   ]
  },
  {
   "cell_type": "code",
   "execution_count": 14,
   "metadata": {},
   "outputs": [],
   "source": [
    "# Degrees of Freedom\n",
    "df = sample_size - 1"
   ]
  },
  {
   "cell_type": "markdown",
   "metadata": {},
   "source": [
    "### Calculating Critical T-Value\n",
    "If the test statistic is more extreme than the critical value, then the null hypothesis is rejected in favor of the alternative hypothesis. If the test statistic is not as extreme as the critical value, then the null hypothesis is not rejected."
   ]
  },
  {
   "cell_type": "code",
   "execution_count": 15,
   "metadata": {},
   "outputs": [
    {
     "data": {
      "text/plain": [
       "1.646"
      ]
     },
     "execution_count": 15,
     "metadata": {},
     "output_type": "execute_result"
    }
   ],
   "source": [
    "t_crit = np.round(stats.t.ppf(1 - 0.05, df), 3)\n",
    "t_crit"
   ]
  },
  {
   "cell_type": "code",
   "execution_count": 16,
   "metadata": {},
   "outputs": [
    {
     "name": "stdout",
     "output_type": "stream",
     "text": [
      "Ttest_1sampResult(statistic=-1.593911675866488, pvalue=0.11111390677346769)\n",
      "\n",
      "\n",
      "Null hypothesis is Accepted\n"
     ]
    }
   ],
   "source": [
    "results = stats.ttest_1samp(a=samples, popmean=mu)\n",
    "print(results)\n",
    "print('\\n')\n",
    "\n",
    "if (results[0]>t_crit) and (results[1]<0.05):\n",
    "    print (\"Null hypothesis rejected. Results are statistically significant with t-value =\", \n",
    "           round(results[0], 2), \"and p-value =\", np.round((results[1]), 4))\n",
    "else:\n",
    "    print (\"Null hypothesis is Accepted\")"
   ]
  },
  {
   "cell_type": "code",
   "execution_count": 18,
   "metadata": {},
   "outputs": [
    {
     "data": {
      "text/plain": [
       "<matplotlib.axes._subplots.AxesSubplot at 0x1a21ea7c50>"
      ]
     },
     "execution_count": 18,
     "metadata": {},
     "output_type": "execute_result"
    },
    {
     "data": {
      "image/png": "[encoded data removed]",
      "text/plain": [
       "<Figure size 864x720 with 1 Axes>"
      ]
     },
     "metadata": {},
     "output_type": "display_data"
    }
   ],
   "source": [
    "sns.set(color_codes=True)\n",
    "sns.set(rc={'figure.figsize':(12,10)})\n",
    "sns.distplot(samples)"
   ]
  },
  {
   "cell_type": "markdown",
   "metadata": {},
   "source": [
    "## Result:\n",
    "While limiting alpha to 0.05, The P-value is > 0.05. This concludes that there is no statistical difference when a team wins in front of a home crowd or wins at away games, therefore accepting the null hypothesis."
   ]
  },
  {
   "cell_type": "markdown",
   "metadata": {},
   "source": [
    "---"
   ]
  },
  {
   "cell_type": "markdown",
   "metadata": {},
   "source": [
    "## Question 2:\n",
    "Is there a statistical difference in the odds of winning a game when the height of a team is taller than the other team?\n",
    "\n",
    "## Hypothesis:\n",
    "**Null Hypothesis** H<sub>0</sub> = There is *no statistical difference* in the odds of winning a game dependent on a teams height.\n",
    "\n",
    "**Alternative Hypothesis** H<sub>a</sub> = There is *always* a difference in the odds of winning a game dependent on a teams height."
   ]
  },
  {
   "cell_type": "code",
   "execution_count": 255,
   "metadata": {},
   "outputs": [],
   "source": [
    "conn = psycopg2.connect('dbname=football_db')"
   ]
  },
  {
   "cell_type": "code",
   "execution_count": 260,
   "metadata": {},
   "outputs": [],
   "source": [
    "cur = conn.cursor()"
   ]
  },
  {
   "cell_type": "code",
   "execution_count": 270,
   "metadata": {},
   "outputs": [],
   "source": [
    "columns = ['game_date', 'home_height', 'away_height', 'result' ]\n",
    "\n",
    "query = f\"\"\"\n",
    "select M.date,  \n",
    "(H1.height + H2.height + H3.height + H4.height + H5.height + H6.height +\n",
    "H7.height + H8.height + H9.height + H10.height + H11.height) / 11 H_HEIGHT,\n",
    "(A1.height + A2.height + A3.height + A4.height + A5.height +  A6.height + \n",
    "A7.height + A8.height + A9.height + A10.height + A11.height) / 11 A_HEIGHT,\n",
    "CASE WHEN home_team_goal > away_team_goal THEN 'Win' \n",
    "     WHEN home_team_goal = away_team_goal THEN 'Draw'\n",
    "     ELSE 'Lose' END as Result\n",
    "from Match M\n",
    "JOIN Player H1 ON M.home_player_1 = H1.player_api_id\n",
    "JOIN Player H2 ON M.home_player_2 = H2.player_api_id\n",
    "JOIN Player H3 ON M.home_player_3 = H3.player_api_id\n",
    "JOIN Player H4 ON M.home_player_4 = H4.player_api_id\n",
    "JOIN Player H5 ON M.home_player_5 = H5.player_api_id\n",
    "JOIN Player H6 ON M.home_player_6 = H6.player_api_id\n",
    "JOIN Player H7 ON M.home_player_7 = H7.player_api_id\n",
    "JOIN Player H8 ON M.home_player_8 = H8.player_api_id\n",
    "JOIN Player H9 ON M.home_player_9 = H9.player_api_id\n",
    "JOIN Player H10 ON M.home_player_10 = H10.player_api_id\n",
    "JOIN Player H11 ON M.home_player_11 = H11.player_api_id\n",
    "JOIN Player A1 ON M.away_player_1 = A1.player_api_id\n",
    "JOIN Player A2 ON M.away_player_2 = A2.player_api_id\n",
    "JOIN Player A3 ON M.away_player_3 = A3.player_api_id\n",
    "JOIN Player A4 ON M.away_player_4 = A4.player_api_id\n",
    "JOIN Player A5 ON M.away_player_5 = A5.player_api_id\n",
    "JOIN Player A6 ON M.away_player_6 = A6.player_api_id\n",
    "JOIN Player A7 ON M.away_player_7 = A7.player_api_id\n",
    "JOIN Player A8 ON M.away_player_8 = A8.player_api_id\n",
    "JOIN Player A9 ON M.away_player_9 = A9.player_api_id\n",
    "JOIN Player A10 ON M.away_player_10 = A10.player_api_id\n",
    "JOIN Player A11 ON M.away_player_11 = A11.player_api_id\n",
    "\"\"\"\n",
    "\n",
    "cur.execute(query)\n",
    "data = cur.fetchall()"
   ]
  },
  {
   "cell_type": "code",
   "execution_count": 286,
   "metadata": {},
   "outputs": [],
   "source": [
    "df = pd.DataFrame(data, columns=columns)"
   ]
  },
  {
   "cell_type": "code",
   "execution_count": 287,
   "metadata": {},
   "outputs": [
    {
     "data": {
      "text/html": [
       "<div>\n",
       "<style scoped>\n",
       "    .dataframe tbody tr th:only-of-type {\n",
       "        vertical-align: middle;\n",
       "    }\n",
       "\n",
       "    .dataframe tbody tr th {\n",
       "        vertical-align: top;\n",
       "    }\n",
       "\n",
       "    .dataframe thead th {\n",
       "        text-align: right;\n",
       "    }\n",
       "</style>\n",
       "<table border=\"1\" class=\"dataframe\">\n",
       "  <thead>\n",
       "    <tr style=\"text-align: right;\">\n",
       "      <th></th>\n",
       "      <th>game_date</th>\n",
       "      <th>home_height</th>\n",
       "      <th>away_height</th>\n",
       "      <th>result</th>\n",
       "    </tr>\n",
       "  </thead>\n",
       "  <tbody>\n",
       "    <tr>\n",
       "      <th>0</th>\n",
       "      <td>2009-02-27 00:00:00</td>\n",
       "      <td>184.265455</td>\n",
       "      <td>181.263636</td>\n",
       "      <td>Win</td>\n",
       "    </tr>\n",
       "    <tr>\n",
       "      <th>1</th>\n",
       "      <td>2009-03-08 00:00:00</td>\n",
       "      <td>181.032727</td>\n",
       "      <td>184.265455</td>\n",
       "      <td>Lose</td>\n",
       "    </tr>\n",
       "    <tr>\n",
       "      <th>2</th>\n",
       "      <td>2009-03-07 00:00:00</td>\n",
       "      <td>184.265455</td>\n",
       "      <td>181.032727</td>\n",
       "      <td>Win</td>\n",
       "    </tr>\n",
       "    <tr>\n",
       "      <th>3</th>\n",
       "      <td>2009-03-13 00:00:00</td>\n",
       "      <td>184.265455</td>\n",
       "      <td>183.803636</td>\n",
       "      <td>Win</td>\n",
       "    </tr>\n",
       "    <tr>\n",
       "      <th>4</th>\n",
       "      <td>2009-03-14 00:00:00</td>\n",
       "      <td>179.878182</td>\n",
       "      <td>181.494545</td>\n",
       "      <td>Draw</td>\n",
       "    </tr>\n",
       "  </tbody>\n",
       "</table>\n",
       "</div>"
      ],
      "text/plain": [
       "             game_date  home_height  away_height result\n",
       "0  2009-02-27 00:00:00   184.265455   181.263636    Win\n",
       "1  2009-03-08 00:00:00   181.032727   184.265455   Lose\n",
       "2  2009-03-07 00:00:00   184.265455   181.032727    Win\n",
       "3  2009-03-13 00:00:00   184.265455   183.803636    Win\n",
       "4  2009-03-14 00:00:00   179.878182   181.494545   Draw"
      ]
     },
     "execution_count": 287,
     "metadata": {},
     "output_type": "execute_result"
    }
   ],
   "source": [
    "df.head(5)"
   ]
  },
  {
   "cell_type": "code",
   "execution_count": 298,
   "metadata": {},
   "outputs": [],
   "source": [
    "win_df = df[df['result']=='Win']"
   ]
  },
  {
   "cell_type": "code",
   "execution_count": 334,
   "metadata": {},
   "outputs": [],
   "source": [
    "number_of_games = 1500\n",
    "sample_df = win_df.iloc[np.random.randint(low=0, high=len(win_df), size=number_of_games), :]"
   ]
  },
  {
   "cell_type": "code",
   "execution_count": 335,
   "metadata": {},
   "outputs": [],
   "source": [
    "experimental = np.array(sample_df['home_height'])\n",
    "control = np.array(sample_df['away_height'])"
   ]
  },
  {
   "cell_type": "code",
   "execution_count": 336,
   "metadata": {},
   "outputs": [
    {
     "data": {
      "text/plain": [
       "182.15910181818197"
      ]
     },
     "execution_count": 336,
     "metadata": {},
     "output_type": "execute_result"
    }
   ],
   "source": [
    "mean_home_height = sample_df['home_height'].mean()\n",
    "mean_home_height"
   ]
  },
  {
   "cell_type": "code",
   "execution_count": 337,
   "metadata": {},
   "outputs": [
    {
     "data": {
      "text/plain": [
       "182.24992606060664"
      ]
     },
     "execution_count": 337,
     "metadata": {},
     "output_type": "execute_result"
    }
   ],
   "source": [
    "mean_away_height = sample_df['away_height'].mean()\n",
    "mean_away_height"
   ]
  },
  {
   "cell_type": "code",
   "execution_count": 338,
   "metadata": {},
   "outputs": [
    {
     "data": {
      "text/plain": [
       "-0.09082424242467368"
      ]
     },
     "execution_count": 338,
     "metadata": {},
     "output_type": "execute_result"
    }
   ],
   "source": [
    "mean_home_height - mean_away_height"
   ]
  },
  {
   "cell_type": "code",
   "execution_count": 66,
   "metadata": {},
   "outputs": [],
   "source": [
    "def variance(sample):\n",
    "    \"\"\"return the variance of sample list\"\"\"\n",
    "    sample_mean = np.mean(sample)\n",
    "    return sum([(i - sample_mean) ** 2 for i in sample])"
   ]
  },
  {
   "cell_type": "code",
   "execution_count": 67,
   "metadata": {},
   "outputs": [],
   "source": [
    "def sample_variance(sample1, sample2):\n",
    "    \"\"\"return the variance between two sample\"\"\"\n",
    "    n_1, n_2 = len(sample1), len(sample2)\n",
    "    var_1, var_2 = variance(sample1), variance(sample2)\n",
    "    return (var_1 + var_2)/((n_1 + n_2)-2)\n"
   ]
  },
  {
   "cell_type": "code",
   "execution_count": 68,
   "metadata": {},
   "outputs": [],
   "source": [
    "def twosample_tstatistic(expr, ctrl):\n",
    "    \"\"\"return the t-statistic value between expr, ctrl\"\"\"\n",
    "    exp_mean, ctrl_mean = np.mean(expr), np.mean(ctrl)\n",
    "    samp_var = sample_variance(expr, ctrl)\n",
    "    n_e, n_c = len(expr), len(ctrl)\n",
    "    num = exp_mean - ctrl_mean\n",
    "    denom = np.sqrt(samp_var * ((1/n_e)+(1/n_c)))\n",
    "    return num / denom"
   ]
  },
  {
   "cell_type": "code",
   "execution_count": 342,
   "metadata": {},
   "outputs": [
    {
     "data": {
      "text/plain": [
       "-1.320395157539636"
      ]
     },
     "execution_count": 342,
     "metadata": {},
     "output_type": "execute_result"
    }
   ],
   "source": [
    "t_stat = twosample_tstatistic(experimental, control)\n",
    "t_stat"
   ]
  },
  {
   "cell_type": "code",
   "execution_count": 71,
   "metadata": {},
   "outputs": [
    {
     "data": {
      "image/png": "[encoded data removed]",
      "text/plain": [
       "<Figure size 576x360 with 1 Axes>"
      ]
     },
     "metadata": {},
     "output_type": "display_data"
    }
   ],
   "source": [
    "def visualize_t(t_stat, n_control, n_experimental):\n",
    "\n",
    "    # initialize a matplotlib \"figure\"\n",
    "    fig = plt.figure(figsize=(8,5))\n",
    "    ax = fig.gca()\n",
    "    # generate points on the x axis between -4 and 4:\n",
    "    xs = np.linspace(-4, 4, 500)\n",
    "\n",
    "    # use stats.t.pdf to get values on the probability density function for the t-distribution\n",
    "    \n",
    "    ys= stats.t.pdf(xs, (n_control+n_experimental-2), 0, 1)\n",
    "    ax.plot(xs, ys, linewidth=3, color='darkred')\n",
    "\n",
    "    ax.axvline(t_stat, color='black', linestyle='--', lw=5)\n",
    "    ax.axvline(-t_stat, color='black', linestyle='--', lw=5)\n",
    "\n",
    "    plt.show()\n",
    "    return None\n",
    "\n",
    "n_control = len(control)\n",
    "n_experimental = len(experimental)\n",
    "visualize_t(t_stat, n_control, n_experimental)\n"
   ]
  },
  {
   "cell_type": "code",
   "execution_count": 344,
   "metadata": {},
   "outputs": [
    {
     "data": {
      "text/plain": [
       "0.18680387810372373"
      ]
     },
     "execution_count": 344,
     "metadata": {},
     "output_type": "execute_result"
    }
   ],
   "source": [
    "stats.t.sf(abs(t_stat), len(experimental)+len(control)-1) * 2"
   ]
  },
  {
   "cell_type": "code",
   "execution_count": 345,
   "metadata": {},
   "outputs": [
    {
     "data": {
      "text/plain": [
       "Ttest_indResult(statistic=-1.3203951575396384, pvalue=0.1868039117094079)"
      ]
     },
     "execution_count": 345,
     "metadata": {},
     "output_type": "execute_result"
    }
   ],
   "source": [
    "stats.ttest_ind(experimental, control)"
   ]
  },
  {
   "cell_type": "markdown",
   "metadata": {},
   "source": [
    "## Result:\n",
    "While limiting alpha to 0.05, The P-value is > 0.05. This concludes that there is no statistical difference when a team wins based on the height of teams players, therefore accepting the null hypothesis."
   ]
  },
  {
   "cell_type": "markdown",
   "metadata": {},
   "source": [
    "---"
   ]
  },
  {
   "cell_type": "markdown",
   "metadata": {},
   "source": [
    "## Question 3:\n",
    "Is there a statistical difference in the odds of losing a game when the defense pressure of a team is higher than the other team?\n",
    "\n",
    "## Hypothesis:\n",
    "**Null Hypothesis** H<sub>0</sub> = There is *no statistical difference* in the odds of losing a game dependent on a teams defense pressure.\n",
    "\n",
    "**Alternative Hypothesis** H<sub>a</sub> = There is *always* a difference in the odds of losing a game dependent on a teams defense pressure."
   ]
  },
  {
   "cell_type": "code",
   "execution_count": 146,
   "metadata": {},
   "outputs": [],
   "source": [
    "conn = psycopg2.connect('dbname=football_db')\n",
    "cur = conn.cursor()\n",
    "\n",
    "query = f\"\"\"\n",
    "SELECT M.date,  \n",
    "CASE WHEN home_team_goal > away_team_goal THEN 'Win' \n",
    "     WHEN home_team_goal = away_team_goal THEN 'Draw'\n",
    "     ELSE 'Lose' END AS result,\n",
    "T.*,\n",
    "TT.*\n",
    "FROM Match M\n",
    "JOIN Team_Attributes AS T ON M.home_team_api_id = T.team_api_id \n",
    "AND SUBSTRING(M.season, 1, 4) = SUBSTRING(T.date, 1, 4)\n",
    "JOIN Team_Attributes AS TT ON M.away_team_api_id = TT.team_api_id\n",
    "AND SUBSTRING(M.season, 1, 4) = SUBSTRING(TT.date, 1, 4)\n",
    "\n",
    "\"\"\"\n",
    "cur.execute(query)\n",
    "data = cur.fetchall()"
   ]
  },
  {
   "cell_type": "code",
   "execution_count": 147,
   "metadata": {},
   "outputs": [],
   "source": [
    "df = pd.DataFrame(data)"
   ]
  },
  {
   "cell_type": "code",
   "execution_count": 148,
   "metadata": {},
   "outputs": [
    {
     "data": {
      "text/html": [
       "<div>\n",
       "<style scoped>\n",
       "    .dataframe tbody tr th:only-of-type {\n",
       "        vertical-align: middle;\n",
       "    }\n",
       "\n",
       "    .dataframe tbody tr th {\n",
       "        vertical-align: top;\n",
       "    }\n",
       "\n",
       "    .dataframe thead th {\n",
       "        text-align: right;\n",
       "    }\n",
       "</style>\n",
       "<table border=\"1\" class=\"dataframe\">\n",
       "  <thead>\n",
       "    <tr style=\"text-align: right;\">\n",
       "      <th></th>\n",
       "      <th>0</th>\n",
       "      <th>1</th>\n",
       "      <th>2</th>\n",
       "      <th>3</th>\n",
       "      <th>4</th>\n",
       "      <th>5</th>\n",
       "      <th>6</th>\n",
       "      <th>7</th>\n",
       "      <th>8</th>\n",
       "      <th>9</th>\n",
       "      <th>...</th>\n",
       "      <th>42</th>\n",
       "      <th>43</th>\n",
       "      <th>44</th>\n",
       "      <th>45</th>\n",
       "      <th>46</th>\n",
       "      <th>47</th>\n",
       "      <th>48</th>\n",
       "      <th>49</th>\n",
       "      <th>50</th>\n",
       "      <th>51</th>\n",
       "    </tr>\n",
       "  </thead>\n",
       "  <tbody>\n",
       "    <tr>\n",
       "      <th>0</th>\n",
       "      <td>2010-07-31 00:00:00</td>\n",
       "      <td>Win</td>\n",
       "      <td>654</td>\n",
       "      <td>100081</td>\n",
       "      <td>8571</td>\n",
       "      <td>2010-02-22 00:00:00</td>\n",
       "      <td>50</td>\n",
       "      <td>Balanced</td>\n",
       "      <td>NaN</td>\n",
       "      <td>Little</td>\n",
       "      <td>...</td>\n",
       "      <td>45</td>\n",
       "      <td>Normal</td>\n",
       "      <td>Organised</td>\n",
       "      <td>60</td>\n",
       "      <td>Medium</td>\n",
       "      <td>70</td>\n",
       "      <td>Double</td>\n",
       "      <td>70</td>\n",
       "      <td>Wide</td>\n",
       "      <td>Cover</td>\n",
       "    </tr>\n",
       "    <tr>\n",
       "      <th>1</th>\n",
       "      <td>2010-07-31 00:00:00</td>\n",
       "      <td>Win</td>\n",
       "      <td>660</td>\n",
       "      <td>110724</td>\n",
       "      <td>8203</td>\n",
       "      <td>2010-02-22 00:00:00</td>\n",
       "      <td>65</td>\n",
       "      <td>Balanced</td>\n",
       "      <td>NaN</td>\n",
       "      <td>Little</td>\n",
       "      <td>...</td>\n",
       "      <td>50</td>\n",
       "      <td>Normal</td>\n",
       "      <td>Organised</td>\n",
       "      <td>65</td>\n",
       "      <td>Medium</td>\n",
       "      <td>65</td>\n",
       "      <td>Press</td>\n",
       "      <td>70</td>\n",
       "      <td>Wide</td>\n",
       "      <td>Cover</td>\n",
       "    </tr>\n",
       "    <tr>\n",
       "      <th>2</th>\n",
       "      <td>2010-07-31 00:00:00</td>\n",
       "      <td>Lose</td>\n",
       "      <td>1391</td>\n",
       "      <td>681</td>\n",
       "      <td>10001</td>\n",
       "      <td>2010-02-22 00:00:00</td>\n",
       "      <td>45</td>\n",
       "      <td>Balanced</td>\n",
       "      <td>NaN</td>\n",
       "      <td>Little</td>\n",
       "      <td>...</td>\n",
       "      <td>60</td>\n",
       "      <td>Normal</td>\n",
       "      <td>Organised</td>\n",
       "      <td>45</td>\n",
       "      <td>Medium</td>\n",
       "      <td>50</td>\n",
       "      <td>Press</td>\n",
       "      <td>40</td>\n",
       "      <td>Normal</td>\n",
       "      <td>Cover</td>\n",
       "    </tr>\n",
       "    <tr>\n",
       "      <th>3</th>\n",
       "      <td>2010-07-30 00:00:00</td>\n",
       "      <td>Draw</td>\n",
       "      <td>1237</td>\n",
       "      <td>232</td>\n",
       "      <td>9985</td>\n",
       "      <td>2010-02-22 00:00:00</td>\n",
       "      <td>53</td>\n",
       "      <td>Balanced</td>\n",
       "      <td>NaN</td>\n",
       "      <td>Little</td>\n",
       "      <td>...</td>\n",
       "      <td>50</td>\n",
       "      <td>Normal</td>\n",
       "      <td>Organised</td>\n",
       "      <td>70</td>\n",
       "      <td>High</td>\n",
       "      <td>60</td>\n",
       "      <td>Press</td>\n",
       "      <td>70</td>\n",
       "      <td>Wide</td>\n",
       "      <td>Cover</td>\n",
       "    </tr>\n",
       "    <tr>\n",
       "      <th>4</th>\n",
       "      <td>2010-08-01 00:00:00</td>\n",
       "      <td>Draw</td>\n",
       "      <td>295</td>\n",
       "      <td>1750</td>\n",
       "      <td>9984</td>\n",
       "      <td>2010-02-22 00:00:00</td>\n",
       "      <td>45</td>\n",
       "      <td>Balanced</td>\n",
       "      <td>NaN</td>\n",
       "      <td>Little</td>\n",
       "      <td>...</td>\n",
       "      <td>60</td>\n",
       "      <td>Normal</td>\n",
       "      <td>Organised</td>\n",
       "      <td>70</td>\n",
       "      <td>High</td>\n",
       "      <td>70</td>\n",
       "      <td>Double</td>\n",
       "      <td>70</td>\n",
       "      <td>Wide</td>\n",
       "      <td>Cover</td>\n",
       "    </tr>\n",
       "  </tbody>\n",
       "</table>\n",
       "<p>5 rows × 52 columns</p>\n",
       "</div>"
      ],
      "text/plain": [
       "                    0     1     2       3      4                    5   6   \\\n",
       "0  2010-07-31 00:00:00   Win   654  100081   8571  2010-02-22 00:00:00  50   \n",
       "1  2010-07-31 00:00:00   Win   660  110724   8203  2010-02-22 00:00:00  65   \n",
       "2  2010-07-31 00:00:00  Lose  1391     681  10001  2010-02-22 00:00:00  45   \n",
       "3  2010-07-30 00:00:00  Draw  1237     232   9985  2010-02-22 00:00:00  53   \n",
       "4  2010-08-01 00:00:00  Draw   295    1750   9984  2010-02-22 00:00:00  45   \n",
       "\n",
       "         7   8       9   ...    42      43         44  45      46  47      48  \\\n",
       "0  Balanced NaN  Little  ...    45  Normal  Organised  60  Medium  70  Double   \n",
       "1  Balanced NaN  Little  ...    50  Normal  Organised  65  Medium  65   Press   \n",
       "2  Balanced NaN  Little  ...    60  Normal  Organised  45  Medium  50   Press   \n",
       "3  Balanced NaN  Little  ...    50  Normal  Organised  70    High  60   Press   \n",
       "4  Balanced NaN  Little  ...    60  Normal  Organised  70    High  70  Double   \n",
       "\n",
       "   49      50     51  \n",
       "0  70    Wide  Cover  \n",
       "1  70    Wide  Cover  \n",
       "2  40  Normal  Cover  \n",
       "3  70    Wide  Cover  \n",
       "4  70    Wide  Cover  \n",
       "\n",
       "[5 rows x 52 columns]"
      ]
     },
     "execution_count": 148,
     "metadata": {},
     "output_type": "execute_result"
    }
   ],
   "source": [
    "df.head()"
   ]
  },
  {
   "cell_type": "code",
   "execution_count": 149,
   "metadata": {},
   "outputs": [],
   "source": [
    "df = df.drop(range(2,20), axis=1)\n",
    "df = df.drop(range(21, 27), axis=1)"
   ]
  },
  {
   "cell_type": "code",
   "execution_count": 150,
   "metadata": {},
   "outputs": [],
   "source": [
    "df = df.drop(range(27, 45), axis=1)\n",
    "df = df.drop(range(46, 52), axis=1)"
   ]
  },
  {
   "cell_type": "code",
   "execution_count": 151,
   "metadata": {},
   "outputs": [
    {
     "data": {
      "text/html": [
       "<div>\n",
       "<style scoped>\n",
       "    .dataframe tbody tr th:only-of-type {\n",
       "        vertical-align: middle;\n",
       "    }\n",
       "\n",
       "    .dataframe tbody tr th {\n",
       "        vertical-align: top;\n",
       "    }\n",
       "\n",
       "    .dataframe thead th {\n",
       "        text-align: right;\n",
       "    }\n",
       "</style>\n",
       "<table border=\"1\" class=\"dataframe\">\n",
       "  <thead>\n",
       "    <tr style=\"text-align: right;\">\n",
       "      <th></th>\n",
       "      <th>0</th>\n",
       "      <th>1</th>\n",
       "      <th>20</th>\n",
       "      <th>45</th>\n",
       "    </tr>\n",
       "  </thead>\n",
       "  <tbody>\n",
       "    <tr>\n",
       "      <th>0</th>\n",
       "      <td>2010-07-31 00:00:00</td>\n",
       "      <td>Win</td>\n",
       "      <td>60</td>\n",
       "      <td>60</td>\n",
       "    </tr>\n",
       "    <tr>\n",
       "      <th>1</th>\n",
       "      <td>2010-07-31 00:00:00</td>\n",
       "      <td>Win</td>\n",
       "      <td>60</td>\n",
       "      <td>65</td>\n",
       "    </tr>\n",
       "    <tr>\n",
       "      <th>2</th>\n",
       "      <td>2010-07-31 00:00:00</td>\n",
       "      <td>Lose</td>\n",
       "      <td>70</td>\n",
       "      <td>45</td>\n",
       "    </tr>\n",
       "    <tr>\n",
       "      <th>3</th>\n",
       "      <td>2010-07-30 00:00:00</td>\n",
       "      <td>Draw</td>\n",
       "      <td>70</td>\n",
       "      <td>70</td>\n",
       "    </tr>\n",
       "    <tr>\n",
       "      <th>4</th>\n",
       "      <td>2010-08-01 00:00:00</td>\n",
       "      <td>Draw</td>\n",
       "      <td>65</td>\n",
       "      <td>70</td>\n",
       "    </tr>\n",
       "  </tbody>\n",
       "</table>\n",
       "</div>"
      ],
      "text/plain": [
       "                    0     1   20  45\n",
       "0  2010-07-31 00:00:00   Win  60  60\n",
       "1  2010-07-31 00:00:00   Win  60  65\n",
       "2  2010-07-31 00:00:00  Lose  70  45\n",
       "3  2010-07-30 00:00:00  Draw  70  70\n",
       "4  2010-08-01 00:00:00  Draw  65  70"
      ]
     },
     "execution_count": 151,
     "metadata": {},
     "output_type": "execute_result"
    }
   ],
   "source": [
    "df.head()"
   ]
  },
  {
   "cell_type": "code",
   "execution_count": 153,
   "metadata": {},
   "outputs": [
    {
     "data": {
      "text/html": [
       "<div>\n",
       "<style scoped>\n",
       "    .dataframe tbody tr th:only-of-type {\n",
       "        vertical-align: middle;\n",
       "    }\n",
       "\n",
       "    .dataframe tbody tr th {\n",
       "        vertical-align: top;\n",
       "    }\n",
       "\n",
       "    .dataframe thead th {\n",
       "        text-align: right;\n",
       "    }\n",
       "</style>\n",
       "<table border=\"1\" class=\"dataframe\">\n",
       "  <thead>\n",
       "    <tr style=\"text-align: right;\">\n",
       "      <th></th>\n",
       "      <th>date</th>\n",
       "      <th>result</th>\n",
       "      <th>Home_DP</th>\n",
       "      <th>Away_DP</th>\n",
       "    </tr>\n",
       "  </thead>\n",
       "  <tbody>\n",
       "    <tr>\n",
       "      <th>0</th>\n",
       "      <td>2010-07-31 00:00:00</td>\n",
       "      <td>Win</td>\n",
       "      <td>60</td>\n",
       "      <td>60</td>\n",
       "    </tr>\n",
       "    <tr>\n",
       "      <th>1</th>\n",
       "      <td>2010-07-31 00:00:00</td>\n",
       "      <td>Win</td>\n",
       "      <td>60</td>\n",
       "      <td>65</td>\n",
       "    </tr>\n",
       "    <tr>\n",
       "      <th>2</th>\n",
       "      <td>2010-07-31 00:00:00</td>\n",
       "      <td>Lose</td>\n",
       "      <td>70</td>\n",
       "      <td>45</td>\n",
       "    </tr>\n",
       "    <tr>\n",
       "      <th>3</th>\n",
       "      <td>2010-07-30 00:00:00</td>\n",
       "      <td>Draw</td>\n",
       "      <td>70</td>\n",
       "      <td>70</td>\n",
       "    </tr>\n",
       "    <tr>\n",
       "      <th>4</th>\n",
       "      <td>2010-08-01 00:00:00</td>\n",
       "      <td>Draw</td>\n",
       "      <td>65</td>\n",
       "      <td>70</td>\n",
       "    </tr>\n",
       "  </tbody>\n",
       "</table>\n",
       "</div>"
      ],
      "text/plain": [
       "                  date result  Home_DP  Away_DP\n",
       "0  2010-07-31 00:00:00    Win       60       60\n",
       "1  2010-07-31 00:00:00    Win       60       65\n",
       "2  2010-07-31 00:00:00   Lose       70       45\n",
       "3  2010-07-30 00:00:00   Draw       70       70\n",
       "4  2010-08-01 00:00:00   Draw       65       70"
      ]
     },
     "execution_count": 153,
     "metadata": {},
     "output_type": "execute_result"
    }
   ],
   "source": [
    "df.columns = ['date',  'result', 'Home_DP', 'Away_DP']\n",
    "df.head()"
   ]
  },
  {
   "cell_type": "code",
   "execution_count": 324,
   "metadata": {},
   "outputs": [],
   "source": [
    "lose_df = df[df['result'] == 'Lose']"
   ]
  },
  {
   "cell_type": "code",
   "execution_count": 325,
   "metadata": {},
   "outputs": [
    {
     "data": {
      "text/plain": [
       "5041"
      ]
     },
     "execution_count": 325,
     "metadata": {},
     "output_type": "execute_result"
    }
   ],
   "source": [
    "len(lose_df)"
   ]
  },
  {
   "cell_type": "code",
   "execution_count": 353,
   "metadata": {},
   "outputs": [],
   "source": [
    "number_of_games = 300\n",
    "sample_df = lose_df.iloc[np.random.randint(low=0, \n",
    "                                           high=len(lose_df), \n",
    "                                           size=number_of_games), :]"
   ]
  },
  {
   "cell_type": "code",
   "execution_count": 354,
   "metadata": {},
   "outputs": [],
   "source": [
    "experimental = np.array(sample_df['Home_DP'])\n",
    "control = np.array(sample_df['Away_DP'])"
   ]
  },
  {
   "cell_type": "code",
   "execution_count": 355,
   "metadata": {},
   "outputs": [
    {
     "data": {
      "text/plain": [
       "45.81666666666667"
      ]
     },
     "execution_count": 355,
     "metadata": {},
     "output_type": "execute_result"
    }
   ],
   "source": [
    "mean_home_dp = experimental.mean()\n",
    "mean_home_dp"
   ]
  },
  {
   "cell_type": "code",
   "execution_count": 356,
   "metadata": {},
   "outputs": [
    {
     "data": {
      "text/plain": [
       "47.92"
      ]
     },
     "execution_count": 356,
     "metadata": {},
     "output_type": "execute_result"
    }
   ],
   "source": [
    "mean_away_dp = control.mean()\n",
    "mean_away_dp"
   ]
  },
  {
   "cell_type": "code",
   "execution_count": 357,
   "metadata": {},
   "outputs": [
    {
     "data": {
      "text/plain": [
       "-2.1033333333333317"
      ]
     },
     "execution_count": 357,
     "metadata": {},
     "output_type": "execute_result"
    }
   ],
   "source": [
    "mean_home_dp - mean_away_dp"
   ]
  },
  {
   "cell_type": "code",
   "execution_count": 358,
   "metadata": {},
   "outputs": [
    {
     "data": {
      "text/plain": [
       "-2.422283722725531"
      ]
     },
     "execution_count": 358,
     "metadata": {},
     "output_type": "execute_result"
    }
   ],
   "source": [
    "t_stat = twosample_tstatistic(experimental, control)\n",
    "t_stat"
   ]
  },
  {
   "cell_type": "code",
   "execution_count": 359,
   "metadata": {},
   "outputs": [
    {
     "data": {
      "image/png": "[encoded data removed]",
      "text/plain": [
       "<Figure size 576x360 with 1 Axes>"
      ]
     },
     "metadata": {},
     "output_type": "display_data"
    }
   ],
   "source": [
    "n_control = len(control)\n",
    "n_experimental = len(experimental)\n",
    "visualize_t(t_stat, n_control, n_experimental)"
   ]
  },
  {
   "cell_type": "code",
   "execution_count": 360,
   "metadata": {},
   "outputs": [
    {
     "data": {
      "text/plain": [
       "0.015718987067782995"
      ]
     },
     "execution_count": 360,
     "metadata": {},
     "output_type": "execute_result"
    }
   ],
   "source": [
    "stats.t.sf(abs(t_stat), len(experimental)+len(control)-1) * 2"
   ]
  },
  {
   "cell_type": "code",
   "execution_count": 361,
   "metadata": {},
   "outputs": [
    {
     "data": {
      "text/plain": [
       "Ttest_indResult(statistic=-2.4222837227255303, pvalue=0.015719483172436502)"
      ]
     },
     "execution_count": 361,
     "metadata": {},
     "output_type": "execute_result"
    }
   ],
   "source": [
    "stats.ttest_ind(experimental, control)"
   ]
  },
  {
   "cell_type": "markdown",
   "metadata": {},
   "source": [
    "## Result:\n",
    "While limiting alpha to 0.05, The P-value is < 0.05. This concludes that there is a statistical difference when a team loses based on the teams' defense pressure, therefore rejecting the null hypothesis."
   ]
  },
  {
   "cell_type": "markdown",
   "metadata": {},
   "source": []
  },
  {
   "cell_type": "markdown",
   "metadata": {},
   "source": [
    "---"
   ]
  },
  {
   "cell_type": "markdown",
   "metadata": {},
   "source": [
    "Question 4:\n",
    "Is there a statistical difference in the odds of losing a game when the defense pressure of a team is higher than the other team?\n",
    "\n",
    "Hypothesis:\n",
    "Null Hypothesis H0 = There is no statistical difference in the odds of losing a game dependent on a teams defense pressure.\n",
    "Alternative Hypothesis Ha = There is always a difference in the odds of losing a game dependent on a teams defense pressure."
   ]
  },
  {
   "cell_type": "code",
   "execution_count": 140,
   "metadata": {},
   "outputs": [],
   "source": [
    "conn = psycopg2.connect('dbname=football')\n",
    "cur = conn.cursor()\n",
    "\n",
    "query = f\"\"\"\n",
    "SELECT M.date,  \n",
    "CASE WHEN home_team_goal > away_team_goal THEN 'Win' \n",
    "     WHEN home_team_goal = away_team_goal THEN 'Draw'\n",
    "     ELSE 'Lose' END AS result,\n",
    "T.buildupplaypassing * T.chancecreationshooting AS Home_Offense,\n",
    "TT.buildupplaypassing * TT.chancecreationshooting AS Away_Offense\n",
    "FROM Match M\n",
    "JOIN Team_Attributes AS T ON M.home_team_api_id = T.team_api_id \n",
    "AND SUBSTRING(M.season, 1, 4) = SUBSTRING(T.date, 1, 4)\n",
    "JOIN Team_Attributes AS TT ON M.away_team_api_id = TT.team_api_id\n",
    "AND SUBSTRING(M.season, 1, 4) = SUBSTRING(TT.date, 1, 4)\n",
    "\"\"\"\n",
    "\n",
    "cur.execute(query)\n",
    "data = cur.fetchall()"
   ]
  },
  {
   "cell_type": "code",
   "execution_count": 141,
   "metadata": {},
   "outputs": [
    {
     "data": {
      "text/html": [
       "<div>\n",
       "<style scoped>\n",
       "    .dataframe tbody tr th:only-of-type {\n",
       "        vertical-align: middle;\n",
       "    }\n",
       "\n",
       "    .dataframe tbody tr th {\n",
       "        vertical-align: top;\n",
       "    }\n",
       "\n",
       "    .dataframe thead th {\n",
       "        text-align: right;\n",
       "    }\n",
       "</style>\n",
       "<table border=\"1\" class=\"dataframe\">\n",
       "  <thead>\n",
       "    <tr style=\"text-align: right;\">\n",
       "      <th></th>\n",
       "      <th>date</th>\n",
       "      <th>result</th>\n",
       "      <th>Home_Offense</th>\n",
       "      <th>Away_Offense</th>\n",
       "    </tr>\n",
       "  </thead>\n",
       "  <tbody>\n",
       "    <tr>\n",
       "      <th>0</th>\n",
       "      <td>2010-07-31 00:00:00</td>\n",
       "      <td>Win</td>\n",
       "      <td>3000</td>\n",
       "      <td>1800</td>\n",
       "    </tr>\n",
       "    <tr>\n",
       "      <th>1</th>\n",
       "      <td>2010-07-31 00:00:00</td>\n",
       "      <td>Win</td>\n",
       "      <td>3000</td>\n",
       "      <td>3000</td>\n",
       "    </tr>\n",
       "    <tr>\n",
       "      <th>2</th>\n",
       "      <td>2010-07-31 00:00:00</td>\n",
       "      <td>Lose</td>\n",
       "      <td>3300</td>\n",
       "      <td>3900</td>\n",
       "    </tr>\n",
       "    <tr>\n",
       "      <th>3</th>\n",
       "      <td>2010-07-30 00:00:00</td>\n",
       "      <td>Draw</td>\n",
       "      <td>2600</td>\n",
       "      <td>3000</td>\n",
       "    </tr>\n",
       "    <tr>\n",
       "      <th>4</th>\n",
       "      <td>2010-08-01 00:00:00</td>\n",
       "      <td>Draw</td>\n",
       "      <td>1925</td>\n",
       "      <td>3000</td>\n",
       "    </tr>\n",
       "  </tbody>\n",
       "</table>\n",
       "</div>"
      ],
      "text/plain": [
       "                  date result  Home_Offense  Away_Offense\n",
       "0  2010-07-31 00:00:00    Win          3000          1800\n",
       "1  2010-07-31 00:00:00    Win          3000          3000\n",
       "2  2010-07-31 00:00:00   Lose          3300          3900\n",
       "3  2010-07-30 00:00:00   Draw          2600          3000\n",
       "4  2010-08-01 00:00:00   Draw          1925          3000"
      ]
     },
     "execution_count": 141,
     "metadata": {},
     "output_type": "execute_result"
    }
   ],
   "source": [
    "df = pd.DataFrame(data)\n",
    "df.columns = ['date',  'result', 'Home_Offense', 'Away_Offense']\n",
    "df.head()"
   ]
  },
  {
   "cell_type": "code",
   "execution_count": 142,
   "metadata": {},
   "outputs": [],
   "source": [
    "win_df = df[df['result'] == 'Win']"
   ]
  },
  {
   "cell_type": "code",
   "execution_count": 143,
   "metadata": {},
   "outputs": [],
   "source": [
    "number_of_games = 500\n",
    "sample_df = win_df.iloc[np.random.randint(low=0, \n",
    "                                           high=len(win_df), \n",
    "                                           size=number_of_games), :]"
   ]
  },
  {
   "cell_type": "code",
   "execution_count": 144,
   "metadata": {},
   "outputs": [],
   "source": [
    "experimental = np.array(sample_df['Home_Offense'])\n",
    "control = np.array(sample_df['Away_Offense'])"
   ]
  },
  {
   "cell_type": "code",
   "execution_count": 145,
   "metadata": {},
   "outputs": [
    {
     "data": {
      "text/plain": [
       "2549.504"
      ]
     },
     "execution_count": 145,
     "metadata": {},
     "output_type": "execute_result"
    }
   ],
   "source": [
    "mean_home_offence = experimental.mean()\n",
    "mean_home_offence"
   ]
  },
  {
   "cell_type": "code",
   "execution_count": 146,
   "metadata": {},
   "outputs": [
    {
     "data": {
      "text/plain": [
       "2646.636"
      ]
     },
     "execution_count": 146,
     "metadata": {},
     "output_type": "execute_result"
    }
   ],
   "source": [
    "mean_away_offence = control.mean()\n",
    "mean_away_offence"
   ]
  },
  {
   "cell_type": "code",
   "execution_count": 147,
   "metadata": {},
   "outputs": [
    {
     "data": {
      "text/plain": [
       "-97.13200000000006"
      ]
     },
     "execution_count": 147,
     "metadata": {},
     "output_type": "execute_result"
    }
   ],
   "source": [
    "mean_home_offence - mean_away_offence"
   ]
  },
  {
   "cell_type": "code",
   "execution_count": 148,
   "metadata": {},
   "outputs": [
    {
     "data": {
      "text/plain": [
       "-2.02727829827459"
      ]
     },
     "execution_count": 148,
     "metadata": {},
     "output_type": "execute_result"
    }
   ],
   "source": [
    "t_stat = twosample_tstatistic(experimental, control)\n",
    "t_stat"
   ]
  },
  {
   "cell_type": "code",
   "execution_count": 149,
   "metadata": {},
   "outputs": [
    {
     "data": {
      "image/png": "[encoded data removed]",
      "text/plain": [
       "<Figure size 576x360 with 1 Axes>"
      ]
     },
     "metadata": {},
     "output_type": "display_data"
    }
   ],
   "source": [
    "n_control = len(control)\n",
    "n_experimental = len(experimental)\n",
    "visualize_t(t_stat, n_control, n_experimental)"
   ]
  },
  {
   "cell_type": "code",
   "execution_count": 150,
   "metadata": {},
   "outputs": [
    {
     "data": {
      "text/plain": [
       "0.04289907035130062"
      ]
     },
     "execution_count": 150,
     "metadata": {},
     "output_type": "execute_result"
    }
   ],
   "source": [
    "stats.t.sf(abs(t_stat), len(experimental)+len(control)-1) * 2"
   ]
  },
  {
   "cell_type": "code",
   "execution_count": 151,
   "metadata": {},
   "outputs": [
    {
     "data": {
      "text/plain": [
       "Ttest_indResult(statistic=-2.0272782982745903, pvalue=0.042899336136515163)"
      ]
     },
     "execution_count": 151,
     "metadata": {},
     "output_type": "execute_result"
    }
   ],
   "source": [
    "stats.ttest_ind(experimental, control)"
   ]
  },
  {
   "cell_type": "code",
   "execution_count": null,
   "metadata": {},
   "outputs": [],
   "source": []
  }
 ],
 "metadata": {
  "kernelspec": {
   "display_name": "Python 3",
   "language": "python",
   "name": "python3"
  },
  "language_info": {
   "codemirror_mode": {
    "name": "ipython",
    "version": 3
   },
   "file_extension": ".py",
   "mimetype": "text/x-python",
   "name": "python",
   "nbconvert_exporter": "python",
   "pygments_lexer": "ipython3",
   "version": "3.7.0"
  }
 },
 "nbformat": 4,
 "nbformat_minor": 2
}
