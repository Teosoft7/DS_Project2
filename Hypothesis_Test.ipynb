{
 "cells": [
  {
   "cell_type": "markdown",
   "metadata": {},
   "source": [
    "## Question:\n",
    "Is there a statistical difference in the odds of winning a game when a team is playing in front of their home crowd?\n",
    "\n",
    "**Null Hypothesis**: H<sub>0</sub> = There is *no statistical difference* in the odds of winning a game when a team is playing in front of their home crowd.\n",
    "\n",
    "**Alternative Hypothesis**: H<sub>a</sub> = There is *always* a difference in the odds of winning a game when a team is playing in front of their home crowd."
   ]
  },
  {
   "cell_type": "code",
   "execution_count": 28,
   "metadata": {},
   "outputs": [],
   "source": [
    "import pandas as pd\n",
    "import numpy as np\n",
    "import psycopg2\n",
    "from scipy import stats\n",
    "import seaborn as sns"
   ]
  },
  {
   "cell_type": "code",
   "execution_count": 29,
   "metadata": {},
   "outputs": [],
   "source": [
    "conn = psycopg2.connect('dbname=football_db')"
   ]
  },
  {
   "cell_type": "code",
   "execution_count": 30,
   "metadata": {},
   "outputs": [],
   "source": [
    "cur = conn.cursor()"
   ]
  },
  {
   "cell_type": "code",
   "execution_count": 31,
   "metadata": {},
   "outputs": [],
   "source": [
    "columns = ['id', 'home_goal', 'away_goal', 'result']\n",
    "\n",
    "query = f\"\"\"\n",
    "SELECT match_api_id, home_team_goal, away_team_goal, \n",
    "CASE WHEN home_team_goal > away_team_goal THEN 'Win' \n",
    "         ELSE 'NoWin' END as Result\n",
    "FROM Match\n",
    "\"\"\"\n",
    "\n",
    "cur.execute(query)\n",
    "data = cur.fetchall()"
   ]
  },
  {
   "cell_type": "code",
   "execution_count": 32,
   "metadata": {},
   "outputs": [],
   "source": [
    "df = pd.DataFrame(data, columns=columns)"
   ]
  },
  {
   "cell_type": "code",
   "execution_count": 33,
   "metadata": {},
   "outputs": [
    {
     "data": {
      "text/html": [
       "<div>\n",
       "<style scoped>\n",
       "    .dataframe tbody tr th:only-of-type {\n",
       "        vertical-align: middle;\n",
       "    }\n",
       "\n",
       "    .dataframe tbody tr th {\n",
       "        vertical-align: top;\n",
       "    }\n",
       "\n",
       "    .dataframe thead th {\n",
       "        text-align: right;\n",
       "    }\n",
       "</style>\n",
       "<table border=\"1\" class=\"dataframe\">\n",
       "  <thead>\n",
       "    <tr style=\"text-align: right;\">\n",
       "      <th></th>\n",
       "      <th>id</th>\n",
       "      <th>home_goal</th>\n",
       "      <th>away_goal</th>\n",
       "      <th>result</th>\n",
       "    </tr>\n",
       "  </thead>\n",
       "  <tbody>\n",
       "    <tr>\n",
       "      <th>0</th>\n",
       "      <td>492473</td>\n",
       "      <td>1</td>\n",
       "      <td>1</td>\n",
       "      <td>NoWin</td>\n",
       "    </tr>\n",
       "    <tr>\n",
       "      <th>1</th>\n",
       "      <td>492474</td>\n",
       "      <td>0</td>\n",
       "      <td>0</td>\n",
       "      <td>NoWin</td>\n",
       "    </tr>\n",
       "    <tr>\n",
       "      <th>2</th>\n",
       "      <td>492475</td>\n",
       "      <td>0</td>\n",
       "      <td>3</td>\n",
       "      <td>NoWin</td>\n",
       "    </tr>\n",
       "    <tr>\n",
       "      <th>3</th>\n",
       "      <td>492476</td>\n",
       "      <td>5</td>\n",
       "      <td>0</td>\n",
       "      <td>Win</td>\n",
       "    </tr>\n",
       "    <tr>\n",
       "      <th>4</th>\n",
       "      <td>492477</td>\n",
       "      <td>1</td>\n",
       "      <td>3</td>\n",
       "      <td>NoWin</td>\n",
       "    </tr>\n",
       "  </tbody>\n",
       "</table>\n",
       "</div>"
      ],
      "text/plain": [
       "       id  home_goal  away_goal result\n",
       "0  492473          1          1  NoWin\n",
       "1  492474          0          0  NoWin\n",
       "2  492475          0          3  NoWin\n",
       "3  492476          5          0    Win\n",
       "4  492477          1          3  NoWin"
      ]
     },
     "execution_count": 33,
     "metadata": {},
     "output_type": "execute_result"
    }
   ],
   "source": [
    "df.head()"
   ]
  },
  {
   "cell_type": "code",
   "execution_count": 34,
   "metadata": {},
   "outputs": [
    {
     "data": {
      "text/plain": [
       "11917"
      ]
     },
     "execution_count": 34,
     "metadata": {},
     "output_type": "execute_result"
    }
   ],
   "source": [
    "total_wins = len(df[df['result'] == 'Win'])\n",
    "total_wins"
   ]
  },
  {
   "cell_type": "code",
   "execution_count": 35,
   "metadata": {},
   "outputs": [
    {
     "data": {
      "text/plain": [
       "25979"
      ]
     },
     "execution_count": 35,
     "metadata": {},
     "output_type": "execute_result"
    }
   ],
   "source": [
    "total_games = len(df['result'])\n",
    "total_games"
   ]
  },
  {
   "cell_type": "code",
   "execution_count": 36,
   "metadata": {},
   "outputs": [
    {
     "data": {
      "text/plain": [
       "0.45871665576042187"
      ]
     },
     "execution_count": 36,
     "metadata": {},
     "output_type": "execute_result"
    }
   ],
   "source": [
    "# Population mean (μ)\n",
    "mu = total_wins / total_games\n",
    "mu"
   ]
  },
  {
   "cell_type": "code",
   "execution_count": 37,
   "metadata": {},
   "outputs": [],
   "source": [
    "sample_size = 2000\n",
    "number_of_games = 2000\n",
    "samples = np.zeros(sample_size)\n",
    "for i in range(sample_size):\n",
    "    games = df.iloc[np.random.randint(low=0, high=len(df), size=number_of_games), :]\n",
    "    win_rate = len(games[games['result'] == 'Win']) / number_of_games\n",
    "    samples[i] = win_rate\n"
   ]
  },
  {
   "cell_type": "code",
   "execution_count": 38,
   "metadata": {},
   "outputs": [
    {
     "data": {
      "text/plain": [
       "0.45829600000000004"
      ]
     },
     "execution_count": 38,
     "metadata": {},
     "output_type": "execute_result"
    }
   ],
   "source": [
    "sample_mean = samples.mean()\n",
    "sample_mean"
   ]
  },
  {
   "cell_type": "code",
   "execution_count": 39,
   "metadata": {},
   "outputs": [
    {
     "data": {
      "text/plain": [
       "0.011196821799475265"
      ]
     },
     "execution_count": 39,
     "metadata": {},
     "output_type": "execute_result"
    }
   ],
   "source": [
    "std = np.std(samples, ddof=1)\n",
    "std"
   ]
  },
  {
   "cell_type": "code",
   "execution_count": 40,
   "metadata": {},
   "outputs": [
    {
     "data": {
      "text/plain": [
       "-1.6801461919741476"
      ]
     },
     "execution_count": 40,
     "metadata": {},
     "output_type": "execute_result"
    }
   ],
   "source": [
    "t = (sample_mean - mu) / (std / np.sqrt(sample_size))\n",
    "t"
   ]
  },
  {
   "cell_type": "code",
   "execution_count": 41,
   "metadata": {},
   "outputs": [],
   "source": [
    "# Degrees of Freedom\n",
    "df = sample_size - 1"
   ]
  },
  {
   "cell_type": "code",
   "execution_count": 42,
   "metadata": {},
   "outputs": [
    {
     "data": {
      "text/plain": [
       "1.646"
      ]
     },
     "execution_count": 42,
     "metadata": {},
     "output_type": "execute_result"
    }
   ],
   "source": [
    "t_crit = np.round(stats.t.ppf(1 - 0.05, df), 3)\n",
    "t_crit"
   ]
  },
  {
   "cell_type": "code",
   "execution_count": 49,
   "metadata": {},
   "outputs": [
    {
     "name": "stdout",
     "output_type": "stream",
     "text": [
      "Ttest_1sampResult(statistic=-1.6801461919741476, pvalue=0.09308512197631458)\n",
      "\n",
      "\n",
      "Null hypothesis is Accepted\n"
     ]
    }
   ],
   "source": [
    "results = stats.ttest_1samp(a=samples, popmean=mu)\n",
    "print(results)\n",
    "print('\\n')\n",
    "\n",
    "if (results[0]>t_crit) and (results[1]<0.05):\n",
    "    print (\"Null hypothesis rejected. Results are statistically significant with t-value =\", \n",
    "           round(results[0], 2), \"and p-value =\", np.round((results[1]), 4))\n",
    "else:\n",
    "    print (\"Null hypothesis is Accepted\")"
   ]
  },
  {
   "cell_type": "code",
   "execution_count": 45,
   "metadata": {},
   "outputs": [
    {
     "data": {
      "text/plain": [
       "<matplotlib.axes._subplots.AxesSubplot at 0x1a21668c18>"
      ]
     },
     "execution_count": 45,
     "metadata": {},
     "output_type": "execute_result"
    },
    {
     "data": {
      "image/png": "[encoded data removed]",
      "text/plain": [
       "<Figure size 864x720 with 1 Axes>"
      ]
     },
     "metadata": {},
     "output_type": "display_data"
    }
   ],
   "source": [
    "sns.set(color_codes=True)\n",
    "sns.set(rc={'figure.figsize':(12,10)})\n",
    "sns.distplot(samples)"
   ]
  },
  {
   "cell_type": "markdown",
   "metadata": {},
   "source": [
    "## Result:\n",
    "While limiting alpha to 0.05, The P-value is > 0.05. This concludes that there is no statistical difference when a team wins in front of a home crowd or wins at away games."
   ]
  },
  {
   "cell_type": "code",
   "execution_count": null,
   "metadata": {},
   "outputs": [],
   "source": []
  },
  {
   "cell_type": "code",
   "execution_count": null,
   "metadata": {},
   "outputs": [],
   "source": []
  },
  {
   "cell_type": "code",
   "execution_count": 18,
   "metadata": {},
   "outputs": [],
   "source": [
    "columns = ['team_short_name', 'team_api_id', 'Category', 'Result', 'Count' ]\n",
    "\n",
    "query = f\"\"\"\n",
    "SELECT A.team_short_name as Team, B.* FROM\n",
    "(SELECT T.team_api_id, 'Home' as Category,\n",
    "CASE WHEN M1.home_team_goal - M1.away_team_goal > 0 THEN 'Win' ELSE 'No' END as Result,\n",
    "COUNT(*) as Count\n",
    "FROM Team T\n",
    "JOIN Match M1 ON T.team_api_id = M1.home_team_api_id\n",
    "GROUP BY T.team_api_id, Result\n",
    "UNION SELECT T.team_api_id, 'Away' as Category,\n",
    "CASE WHEN M1.home_team_goal - M1.away_team_goal < 0 THEN 'Win' ELSE 'No' END as Result,\n",
    "COUNT(*) as Count\n",
    "FROM Team T\n",
    "JOIN Match M1 ON T.team_api_id = M1.away_team_api_id\n",
    "GROUP BY T.team_api_id, Result) as B\n",
    "JOIN Team A ON B.team_api_id = A.team_api_id\n",
    "\"\"\"\n",
    "\n",
    "cur.execute(query)\n",
    "data = cur.fetchall()"
   ]
  },
  {
   "cell_type": "code",
   "execution_count": null,
   "metadata": {},
   "outputs": [],
   "source": []
  },
  {
   "cell_type": "code",
   "execution_count": null,
   "metadata": {},
   "outputs": [],
   "source": []
  },
  {
   "cell_type": "code",
   "execution_count": 19,
   "metadata": {},
   "outputs": [],
   "source": [
    "df = pd.DataFrame(data, columns=columns)"
   ]
  },
  {
   "cell_type": "code",
   "execution_count": 20,
   "metadata": {},
   "outputs": [
    {
     "data": {
      "text/html": [
       "<div>\n",
       "<style scoped>\n",
       "    .dataframe tbody tr th:only-of-type {\n",
       "        vertical-align: middle;\n",
       "    }\n",
       "\n",
       "    .dataframe tbody tr th {\n",
       "        vertical-align: top;\n",
       "    }\n",
       "\n",
       "    .dataframe thead th {\n",
       "        text-align: right;\n",
       "    }\n",
       "</style>\n",
       "<table border=\"1\" class=\"dataframe\">\n",
       "  <thead>\n",
       "    <tr style=\"text-align: right;\">\n",
       "      <th></th>\n",
       "      <th>team_short_name</th>\n",
       "      <th>team_api_id</th>\n",
       "      <th>Category</th>\n",
       "      <th>Result</th>\n",
       "      <th>Count</th>\n",
       "    </tr>\n",
       "  </thead>\n",
       "  <tbody>\n",
       "    <tr>\n",
       "      <th>0</th>\n",
       "      <td>CHO</td>\n",
       "      <td>1601</td>\n",
       "      <td>Away</td>\n",
       "      <td>No</td>\n",
       "      <td>82</td>\n",
       "    </tr>\n",
       "    <tr>\n",
       "      <th>1</th>\n",
       "      <td>CHO</td>\n",
       "      <td>1601</td>\n",
       "      <td>Away</td>\n",
       "      <td>Win</td>\n",
       "      <td>38</td>\n",
       "    </tr>\n",
       "    <tr>\n",
       "      <th>2</th>\n",
       "      <td>CHO</td>\n",
       "      <td>1601</td>\n",
       "      <td>Home</td>\n",
       "      <td>No</td>\n",
       "      <td>66</td>\n",
       "    </tr>\n",
       "    <tr>\n",
       "      <th>3</th>\n",
       "      <td>CHO</td>\n",
       "      <td>1601</td>\n",
       "      <td>Home</td>\n",
       "      <td>Win</td>\n",
       "      <td>54</td>\n",
       "    </tr>\n",
       "    <tr>\n",
       "      <th>4</th>\n",
       "      <td>O-H</td>\n",
       "      <td>1773</td>\n",
       "      <td>Away</td>\n",
       "      <td>No</td>\n",
       "      <td>39</td>\n",
       "    </tr>\n",
       "  </tbody>\n",
       "</table>\n",
       "</div>"
      ],
      "text/plain": [
       "  team_short_name  team_api_id Category Result  Count\n",
       "0             CHO         1601     Away     No     82\n",
       "1             CHO         1601     Away    Win     38\n",
       "2             CHO         1601     Home     No     66\n",
       "3             CHO         1601     Home    Win     54\n",
       "4             O-H         1773     Away     No     39"
      ]
     },
     "execution_count": 20,
     "metadata": {},
     "output_type": "execute_result"
    }
   ],
   "source": [
    "df.head(5)"
   ]
  },
  {
   "cell_type": "code",
   "execution_count": 21,
   "metadata": {},
   "outputs": [],
   "source": [
    "columns = ['team_short_name', 'team_api_id']\n",
    "\n",
    "query = f\"\"\"\n",
    "SELECT {', '.join(columns)}\n",
    "FROM Team;\n",
    "\"\"\""
   ]
  },
  {
   "cell_type": "code",
   "execution_count": 22,
   "metadata": {},
   "outputs": [],
   "source": [
    "cur.execute(query)\n",
    "data = cur.fetchall()"
   ]
  },
  {
   "cell_type": "code",
   "execution_count": 23,
   "metadata": {},
   "outputs": [
    {
     "data": {
      "text/html": [
       "<div>\n",
       "<style scoped>\n",
       "    .dataframe tbody tr th:only-of-type {\n",
       "        vertical-align: middle;\n",
       "    }\n",
       "\n",
       "    .dataframe tbody tr th {\n",
       "        vertical-align: top;\n",
       "    }\n",
       "\n",
       "    .dataframe thead th {\n",
       "        text-align: right;\n",
       "    }\n",
       "</style>\n",
       "<table border=\"1\" class=\"dataframe\">\n",
       "  <thead>\n",
       "    <tr style=\"text-align: right;\">\n",
       "      <th></th>\n",
       "      <th>team_short_name</th>\n",
       "      <th>team_api_id</th>\n",
       "    </tr>\n",
       "  </thead>\n",
       "  <tbody>\n",
       "    <tr>\n",
       "      <th>0</th>\n",
       "      <td>GEN</td>\n",
       "      <td>9987</td>\n",
       "    </tr>\n",
       "    <tr>\n",
       "      <th>1</th>\n",
       "      <td>BAC</td>\n",
       "      <td>9993</td>\n",
       "    </tr>\n",
       "    <tr>\n",
       "      <th>2</th>\n",
       "      <td>ZUL</td>\n",
       "      <td>10000</td>\n",
       "    </tr>\n",
       "    <tr>\n",
       "      <th>3</th>\n",
       "      <td>LOK</td>\n",
       "      <td>9994</td>\n",
       "    </tr>\n",
       "    <tr>\n",
       "      <th>4</th>\n",
       "      <td>CEB</td>\n",
       "      <td>9984</td>\n",
       "    </tr>\n",
       "  </tbody>\n",
       "</table>\n",
       "</div>"
      ],
      "text/plain": [
       "  team_short_name  team_api_id\n",
       "0             GEN         9987\n",
       "1             BAC         9993\n",
       "2             ZUL        10000\n",
       "3             LOK         9994\n",
       "4             CEB         9984"
      ]
     },
     "execution_count": 23,
     "metadata": {},
     "output_type": "execute_result"
    }
   ],
   "source": [
    "team_df = pd.DataFrame(data, columns=columns)\n",
    "team_df.head()"
   ]
  },
  {
   "cell_type": "code",
   "execution_count": 24,
   "metadata": {},
   "outputs": [],
   "source": [
    "np.random.seed(0)\n",
    "samples = df.iloc[np.random.randint(low=0, high=len(df), size=100), :]"
   ]
  },
  {
   "cell_type": "code",
   "execution_count": 26,
   "metadata": {},
   "outputs": [
    {
     "data": {
      "text/plain": [
       "team_short_name    0.499582\n",
       "team_api_id        0.499582\n",
       "Category           0.499582\n",
       "Result             0.499582\n",
       "Count              0.499582\n",
       "dtype: float64"
      ]
     },
     "execution_count": 26,
     "metadata": {},
     "output_type": "execute_result"
    }
   ],
   "source": [
    "mu = df[df['Result'] == \"Win\"].count() / df.count()\n",
    "mu"
   ]
  },
  {
   "cell_type": "code",
   "execution_count": null,
   "metadata": {},
   "outputs": [],
   "source": [
    "x_bar = samples[samples['Home_Result'] == \"Win\"].count() / samples.count()\n",
    "x_bar"
   ]
  },
  {
   "cell_type": "code",
   "execution_count": null,
   "metadata": {},
   "outputs": [],
   "source": [
    "columns = ['Home_Result', 'Count']\n",
    "\n",
    "query = f\"\"\"\n",
    "SELECT Home_Result, COUNT(*) as Count FROM\n",
    "(SELECT B.team_short_name as Home,  C.team_short_name as Away,  \n",
    "(CASE WHEN M.home_team_goal - M.away_team_goal > 0 THEN 'Win' \n",
    "      WHEN  M.home_team_goal - M.away_team_goal = 0 THEN 'Draw'\n",
    "      ELSE 'Lose' END) as Home_Result \n",
    "FROM Match M\n",
    "JOIN Team B ON M.home_team_api_id = B.team_api_id\n",
    "JOIN Team C ON M.away_team_api_id = C.team_api_id) AS T\n",
    "GROUP BY Home_Result\n",
    "\"\"\"\n",
    "\n",
    "cur.execute(query)"
   ]
  },
  {
   "cell_type": "code",
   "execution_count": null,
   "metadata": {},
   "outputs": [],
   "source": []
  },
  {
   "cell_type": "code",
   "execution_count": null,
   "metadata": {},
   "outputs": [],
   "source": []
  },
  {
   "cell_type": "code",
   "execution_count": null,
   "metadata": {},
   "outputs": [],
   "source": []
  }
 ],
 "metadata": {
  "kernelspec": {
   "display_name": "Python 3",
   "language": "python",
   "name": "python3"
  },
  "language_info": {
   "codemirror_mode": {
    "name": "ipython",
    "version": 3
   },
   "file_extension": ".py",
   "mimetype": "text/x-python",
   "name": "python",
   "nbconvert_exporter": "python",
   "pygments_lexer": "ipython3",
   "version": "3.7.1"
  }
 },
 "nbformat": 4,
 "nbformat_minor": 2
}
